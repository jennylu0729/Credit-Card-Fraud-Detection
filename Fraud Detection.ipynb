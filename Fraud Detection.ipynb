{
 "cells": [
  {
   "cell_type": "code",
   "execution_count": 1,
   "id": "969b44e2",
   "metadata": {},
   "outputs": [],
   "source": [
    "%matplotlib inline\n",
    "import numpy as np\n",
    "import pandas as pd\n",
    "from scipy import stats\n",
    "import matplotlib.pyplot as plt\n",
    "import seaborn as sns\n",
    "%matplotlib inline\n",
    "from collections import Counter"
   ]
  },
  {
   "cell_type": "code",
   "execution_count": 2,
   "id": "03ca8dbf",
   "metadata": {},
   "outputs": [
    {
     "data": {
      "text/html": [
       "<div>\n",
       "<style scoped>\n",
       "    .dataframe tbody tr th:only-of-type {\n",
       "        vertical-align: middle;\n",
       "    }\n",
       "\n",
       "    .dataframe tbody tr th {\n",
       "        vertical-align: top;\n",
       "    }\n",
       "\n",
       "    .dataframe thead th {\n",
       "        text-align: right;\n",
       "    }\n",
       "</style>\n",
       "<table border=\"1\" class=\"dataframe\">\n",
       "  <thead>\n",
       "    <tr style=\"text-align: right;\">\n",
       "      <th></th>\n",
       "      <th>Time</th>\n",
       "      <th>V1</th>\n",
       "      <th>V2</th>\n",
       "      <th>V3</th>\n",
       "      <th>V4</th>\n",
       "      <th>V5</th>\n",
       "      <th>V6</th>\n",
       "      <th>V7</th>\n",
       "      <th>V8</th>\n",
       "      <th>V9</th>\n",
       "      <th>...</th>\n",
       "      <th>V21</th>\n",
       "      <th>V22</th>\n",
       "      <th>V23</th>\n",
       "      <th>V24</th>\n",
       "      <th>V25</th>\n",
       "      <th>V26</th>\n",
       "      <th>V27</th>\n",
       "      <th>V28</th>\n",
       "      <th>Amount</th>\n",
       "      <th>Class</th>\n",
       "    </tr>\n",
       "  </thead>\n",
       "  <tbody>\n",
       "    <tr>\n",
       "      <th>0</th>\n",
       "      <td>0.0</td>\n",
       "      <td>-1.359807</td>\n",
       "      <td>-0.072781</td>\n",
       "      <td>2.536347</td>\n",
       "      <td>1.378155</td>\n",
       "      <td>-0.338321</td>\n",
       "      <td>0.462388</td>\n",
       "      <td>0.239599</td>\n",
       "      <td>0.098698</td>\n",
       "      <td>0.363787</td>\n",
       "      <td>...</td>\n",
       "      <td>-0.018307</td>\n",
       "      <td>0.277838</td>\n",
       "      <td>-0.110474</td>\n",
       "      <td>0.066928</td>\n",
       "      <td>0.128539</td>\n",
       "      <td>-0.189115</td>\n",
       "      <td>0.133558</td>\n",
       "      <td>-0.021053</td>\n",
       "      <td>149.62</td>\n",
       "      <td>0</td>\n",
       "    </tr>\n",
       "    <tr>\n",
       "      <th>1</th>\n",
       "      <td>0.0</td>\n",
       "      <td>1.191857</td>\n",
       "      <td>0.266151</td>\n",
       "      <td>0.166480</td>\n",
       "      <td>0.448154</td>\n",
       "      <td>0.060018</td>\n",
       "      <td>-0.082361</td>\n",
       "      <td>-0.078803</td>\n",
       "      <td>0.085102</td>\n",
       "      <td>-0.255425</td>\n",
       "      <td>...</td>\n",
       "      <td>-0.225775</td>\n",
       "      <td>-0.638672</td>\n",
       "      <td>0.101288</td>\n",
       "      <td>-0.339846</td>\n",
       "      <td>0.167170</td>\n",
       "      <td>0.125895</td>\n",
       "      <td>-0.008983</td>\n",
       "      <td>0.014724</td>\n",
       "      <td>2.69</td>\n",
       "      <td>0</td>\n",
       "    </tr>\n",
       "    <tr>\n",
       "      <th>2</th>\n",
       "      <td>1.0</td>\n",
       "      <td>-1.358354</td>\n",
       "      <td>-1.340163</td>\n",
       "      <td>1.773209</td>\n",
       "      <td>0.379780</td>\n",
       "      <td>-0.503198</td>\n",
       "      <td>1.800499</td>\n",
       "      <td>0.791461</td>\n",
       "      <td>0.247676</td>\n",
       "      <td>-1.514654</td>\n",
       "      <td>...</td>\n",
       "      <td>0.247998</td>\n",
       "      <td>0.771679</td>\n",
       "      <td>0.909412</td>\n",
       "      <td>-0.689281</td>\n",
       "      <td>-0.327642</td>\n",
       "      <td>-0.139097</td>\n",
       "      <td>-0.055353</td>\n",
       "      <td>-0.059752</td>\n",
       "      <td>378.66</td>\n",
       "      <td>0</td>\n",
       "    </tr>\n",
       "    <tr>\n",
       "      <th>3</th>\n",
       "      <td>1.0</td>\n",
       "      <td>-0.966272</td>\n",
       "      <td>-0.185226</td>\n",
       "      <td>1.792993</td>\n",
       "      <td>-0.863291</td>\n",
       "      <td>-0.010309</td>\n",
       "      <td>1.247203</td>\n",
       "      <td>0.237609</td>\n",
       "      <td>0.377436</td>\n",
       "      <td>-1.387024</td>\n",
       "      <td>...</td>\n",
       "      <td>-0.108300</td>\n",
       "      <td>0.005274</td>\n",
       "      <td>-0.190321</td>\n",
       "      <td>-1.175575</td>\n",
       "      <td>0.647376</td>\n",
       "      <td>-0.221929</td>\n",
       "      <td>0.062723</td>\n",
       "      <td>0.061458</td>\n",
       "      <td>123.50</td>\n",
       "      <td>0</td>\n",
       "    </tr>\n",
       "    <tr>\n",
       "      <th>4</th>\n",
       "      <td>2.0</td>\n",
       "      <td>-1.158233</td>\n",
       "      <td>0.877737</td>\n",
       "      <td>1.548718</td>\n",
       "      <td>0.403034</td>\n",
       "      <td>-0.407193</td>\n",
       "      <td>0.095921</td>\n",
       "      <td>0.592941</td>\n",
       "      <td>-0.270533</td>\n",
       "      <td>0.817739</td>\n",
       "      <td>...</td>\n",
       "      <td>-0.009431</td>\n",
       "      <td>0.798278</td>\n",
       "      <td>-0.137458</td>\n",
       "      <td>0.141267</td>\n",
       "      <td>-0.206010</td>\n",
       "      <td>0.502292</td>\n",
       "      <td>0.219422</td>\n",
       "      <td>0.215153</td>\n",
       "      <td>69.99</td>\n",
       "      <td>0</td>\n",
       "    </tr>\n",
       "  </tbody>\n",
       "</table>\n",
       "<p>5 rows × 31 columns</p>\n",
       "</div>"
      ],
      "text/plain": [
       "   Time        V1        V2        V3        V4        V5        V6        V7  \\\n",
       "0   0.0 -1.359807 -0.072781  2.536347  1.378155 -0.338321  0.462388  0.239599   \n",
       "1   0.0  1.191857  0.266151  0.166480  0.448154  0.060018 -0.082361 -0.078803   \n",
       "2   1.0 -1.358354 -1.340163  1.773209  0.379780 -0.503198  1.800499  0.791461   \n",
       "3   1.0 -0.966272 -0.185226  1.792993 -0.863291 -0.010309  1.247203  0.237609   \n",
       "4   2.0 -1.158233  0.877737  1.548718  0.403034 -0.407193  0.095921  0.592941   \n",
       "\n",
       "         V8        V9  ...       V21       V22       V23       V24       V25  \\\n",
       "0  0.098698  0.363787  ... -0.018307  0.277838 -0.110474  0.066928  0.128539   \n",
       "1  0.085102 -0.255425  ... -0.225775 -0.638672  0.101288 -0.339846  0.167170   \n",
       "2  0.247676 -1.514654  ...  0.247998  0.771679  0.909412 -0.689281 -0.327642   \n",
       "3  0.377436 -1.387024  ... -0.108300  0.005274 -0.190321 -1.175575  0.647376   \n",
       "4 -0.270533  0.817739  ... -0.009431  0.798278 -0.137458  0.141267 -0.206010   \n",
       "\n",
       "        V26       V27       V28  Amount  Class  \n",
       "0 -0.189115  0.133558 -0.021053  149.62      0  \n",
       "1  0.125895 -0.008983  0.014724    2.69      0  \n",
       "2 -0.139097 -0.055353 -0.059752  378.66      0  \n",
       "3 -0.221929  0.062723  0.061458  123.50      0  \n",
       "4  0.502292  0.219422  0.215153   69.99      0  \n",
       "\n",
       "[5 rows x 31 columns]"
      ]
     },
     "execution_count": 2,
     "metadata": {},
     "output_type": "execute_result"
    }
   ],
   "source": [
    "df=pd.read_csv('creditcard.csv')\n",
    "df.head()"
   ]
  },
  {
   "cell_type": "code",
   "execution_count": 3,
   "id": "62402489",
   "metadata": {},
   "outputs": [
    {
     "name": "stdout",
     "output_type": "stream",
     "text": [
      "<class 'pandas.core.frame.DataFrame'>\n",
      "RangeIndex: 284807 entries, 0 to 284806\n",
      "Data columns (total 31 columns):\n",
      " #   Column  Non-Null Count   Dtype  \n",
      "---  ------  --------------   -----  \n",
      " 0   Time    284807 non-null  float64\n",
      " 1   V1      284807 non-null  float64\n",
      " 2   V2      284807 non-null  float64\n",
      " 3   V3      284807 non-null  float64\n",
      " 4   V4      284807 non-null  float64\n",
      " 5   V5      284807 non-null  float64\n",
      " 6   V6      284807 non-null  float64\n",
      " 7   V7      284807 non-null  float64\n",
      " 8   V8      284807 non-null  float64\n",
      " 9   V9      284807 non-null  float64\n",
      " 10  V10     284807 non-null  float64\n",
      " 11  V11     284807 non-null  float64\n",
      " 12  V12     284807 non-null  float64\n",
      " 13  V13     284807 non-null  float64\n",
      " 14  V14     284807 non-null  float64\n",
      " 15  V15     284807 non-null  float64\n",
      " 16  V16     284807 non-null  float64\n",
      " 17  V17     284807 non-null  float64\n",
      " 18  V18     284807 non-null  float64\n",
      " 19  V19     284807 non-null  float64\n",
      " 20  V20     284807 non-null  float64\n",
      " 21  V21     284807 non-null  float64\n",
      " 22  V22     284807 non-null  float64\n",
      " 23  V23     284807 non-null  float64\n",
      " 24  V24     284807 non-null  float64\n",
      " 25  V25     284807 non-null  float64\n",
      " 26  V26     284807 non-null  float64\n",
      " 27  V27     284807 non-null  float64\n",
      " 28  V28     284807 non-null  float64\n",
      " 29  Amount  284807 non-null  float64\n",
      " 30  Class   284807 non-null  int64  \n",
      "dtypes: float64(30), int64(1)\n",
      "memory usage: 67.4 MB\n"
     ]
    }
   ],
   "source": [
    "df.info()"
   ]
  },
  {
   "cell_type": "markdown",
   "id": "a3660df6",
   "metadata": {},
   "source": [
    "# EDA"
   ]
  },
  {
   "cell_type": "code",
   "execution_count": 4,
   "id": "20136269",
   "metadata": {},
   "outputs": [
    {
     "data": {
      "image/png": "[encoded data removed]",
      "text/plain": [
       "<Figure size 432x288 with 1 Axes>"
      ]
     },
     "metadata": {
      "needs_background": "light"
     },
     "output_type": "display_data"
    }
   ],
   "source": [
    "ax=sns.countplot(x='Class', data=df)\n",
    "\n",
    "for p in ax.patches:\n",
    "        ax.annotate('%{:.5f}'.format(p.get_height()/284807), (p.get_x(), p.get_height()))"
   ]
  },
  {
   "cell_type": "code",
   "execution_count": 5,
   "id": "8a204b7b",
   "metadata": {},
   "outputs": [
    {
     "data": {
      "text/plain": [
       "<AxesSubplot:ylabel='Frequency'>"
      ]
     },
     "execution_count": 5,
     "metadata": {},
     "output_type": "execute_result"
    },
    {
     "data": {
      "image/png": "[encoded data removed]",
      "text/plain": [
       "<Figure size 432x288 with 1 Axes>"
      ]
     },
     "metadata": {
      "needs_background": "light"
     },
     "output_type": "display_data"
    }
   ],
   "source": [
    "df['Amount'].plot.hist(bins=40)"
   ]
  },
  {
   "cell_type": "code",
   "execution_count": 6,
   "id": "f7f62182",
   "metadata": {},
   "outputs": [
    {
     "data": {
      "text/plain": [
       "<AxesSubplot:xlabel='Class', ylabel='Amount'>"
      ]
     },
     "execution_count": 6,
     "metadata": {},
     "output_type": "execute_result"
    },
    {
     "data": {
      "image/png": "[encoded data removed]",
      "text/plain": [
       "<Figure size 432x288 with 1 Axes>"
      ]
     },
     "metadata": {
      "needs_background": "light"
     },
     "output_type": "display_data"
    }
   ],
   "source": [
    "sns.violinplot(x = 'Class', y = 'Amount', data = df)"
   ]
  },
  {
   "cell_type": "markdown",
   "id": "4949198d",
   "metadata": {},
   "source": [
    "Logarithm Scaling"
   ]
  },
  {
   "cell_type": "code",
   "execution_count": 7,
   "id": "54189f6e",
   "metadata": {},
   "outputs": [],
   "source": [
    "df2=df.copy()\n",
    "df2['AmountLog'] = np.log1p(df2['Amount'])"
   ]
  },
  {
   "cell_type": "code",
   "execution_count": 8,
   "id": "71128d65",
   "metadata": {},
   "outputs": [
    {
     "data": {
      "text/plain": [
       "<AxesSubplot:ylabel='Frequency'>"
      ]
     },
     "execution_count": 8,
     "metadata": {},
     "output_type": "execute_result"
    },
    {
     "data": {
      "image/png": "[encoded data removed]",
      "text/plain": [
       "<Figure size 432x288 with 1 Axes>"
      ]
     },
     "metadata": {
      "needs_background": "light"
     },
     "output_type": "display_data"
    }
   ],
   "source": [
    "df2['AmountLog'].plot.hist(bins=40)"
   ]
  },
  {
   "cell_type": "code",
   "execution_count": 9,
   "id": "31049340",
   "metadata": {},
   "outputs": [
    {
     "data": {
      "text/plain": [
       "<AxesSubplot:xlabel='Class', ylabel='AmountLog'>"
      ]
     },
     "execution_count": 9,
     "metadata": {},
     "output_type": "execute_result"
    },
    {
     "data": {
      "image/png": "[encoded data removed]",
      "text/plain": [
       "<Figure size 432x288 with 1 Axes>"
      ]
     },
     "metadata": {
      "needs_background": "light"
     },
     "output_type": "display_data"
    }
   ],
   "source": [
    "sns.violinplot(x = 'Class', y = 'AmountLog', data = df2)"
   ]
  },
  {
   "cell_type": "code",
   "execution_count": 10,
   "id": "db5afc20",
   "metadata": {},
   "outputs": [
    {
     "data": {
      "text/plain": [
       "<seaborn.axisgrid.FacetGrid at 0x22b07036430>"
      ]
     },
     "execution_count": 10,
     "metadata": {},
     "output_type": "execute_result"
    },
    {
     "data": {
      "image/png": "[encoded data removed]",
      "text/plain": [
       "<Figure size 906.375x216 with 1 Axes>"
      ]
     },
     "metadata": {
      "needs_background": "light"
     },
     "output_type": "display_data"
    }
   ],
   "source": [
    "facet = sns.FacetGrid(df2, hue=\"Class\",aspect=4)\n",
    "facet.map(sns.kdeplot,'AmountLog',shade= True)\n",
    "facet.set(xlim=(0, df2['AmountLog'].max()))\n",
    "facet.add_legend()"
   ]
  },
  {
   "cell_type": "code",
   "execution_count": 11,
   "id": "eb41e686",
   "metadata": {},
   "outputs": [
    {
     "data": {
      "text/plain": [
       "Text(0.5, 1, 'Corrolation between Variables')"
      ]
     },
     "execution_count": 11,
     "metadata": {},
     "output_type": "execute_result"
    },
    {
     "data": {
      "image/png": "[encoded data removed]",
      "text/plain": [
       "<Figure size 1440x720 with 2 Axes>"
      ]
     },
     "metadata": {
      "needs_background": "light"
     },
     "output_type": "display_data"
    }
   ],
   "source": [
    "plt.figure(figsize=(20,10))\n",
    "sns.heatmap(df.corr())\n",
    "plt.title('Corrolation between Variables',y=1, size=25)"
   ]
  },
  {
   "cell_type": "code",
   "execution_count": 12,
   "id": "b4a95d1b",
   "metadata": {},
   "outputs": [
    {
     "data": {
      "image/png": "[encoded data removed]",
      "text/plain": [
       "<Figure size 1008x720 with 35 Axes>"
      ]
     },
     "metadata": {
      "needs_background": "light"
     },
     "output_type": "display_data"
    }
   ],
   "source": [
    "fig, axs = plt.subplots(7, 5, sharey=True, figsize=(14,10))\n",
    "axs = axs.flatten()\n",
    "for i, col in enumerate(df.columns):\n",
    "    sns.boxplot(data=df[col], orient='h', ax=axs[i])\n",
    "    axs[i].set_title(col)\n",
    "        \n",
    "plt.tight_layout()"
   ]
  },
  {
   "cell_type": "code",
   "execution_count": 13,
   "id": "d1c04bb9",
   "metadata": {},
   "outputs": [
    {
     "name": "stdout",
     "output_type": "stream",
     "text": [
      "amount of outliers:\n",
      "138488\n"
     ]
    }
   ],
   "source": [
    "outlier_list = []\n",
    "    \n",
    "for col in df.columns:\n",
    "    Q1 = df[col].quantile(0.25)\n",
    "    Q3 = df[col].quantile(0.75)\n",
    "    IQR = Q3 - Q1\n",
    "    outlier_index = df[(df[col] < (Q1 - 1.5 * IQR)) | (df[col] > (Q3 + 1.5 * IQR))].index \n",
    "    outlier_list.extend(outlier_index)\n",
    "    \n",
    "print('amount of outliers:')\n",
    "print(len(set(outlier_list)))"
   ]
  },
  {
   "cell_type": "code",
   "execution_count": 14,
   "id": "ffd66970",
   "metadata": {},
   "outputs": [
    {
     "data": {
      "text/plain": [
       "0    146319\n",
       "Name: Class, dtype: int64"
      ]
     },
     "execution_count": 14,
     "metadata": {},
     "output_type": "execute_result"
    }
   ],
   "source": [
    "df3=df.drop(index=set(outlier_list))\n",
    "df3['Class'].value_counts() #Dataset after delete outliers"
   ]
  },
  {
   "cell_type": "code",
   "execution_count": 15,
   "id": "4b203d4e",
   "metadata": {},
   "outputs": [
    {
     "data": {
      "text/plain": [
       "0    284315\n",
       "1       492\n",
       "Name: Class, dtype: int64"
      ]
     },
     "execution_count": 15,
     "metadata": {},
     "output_type": "execute_result"
    }
   ],
   "source": [
    "df['Class'].value_counts() #Original dataset"
   ]
  },
  {
   "cell_type": "markdown",
   "id": "3fa217a9",
   "metadata": {},
   "source": [
    "no more fraud data after outliers are canceled. So we don't delete outliers."
   ]
  },
  {
   "cell_type": "markdown",
   "id": "e219e2ca",
   "metadata": {},
   "source": [
    "# Baseline"
   ]
  },
  {
   "cell_type": "code",
   "execution_count": 16,
   "id": "972aec32",
   "metadata": {},
   "outputs": [],
   "source": [
    "from sklearn.ensemble import RandomForestClassifier\n",
    "from sklearn.model_selection import train_test_split\n",
    "from sklearn.metrics import mean_squared_error as MSE\n",
    "import sklearn.model_selection as cv"
   ]
  },
  {
   "cell_type": "markdown",
   "id": "dbfdc99a",
   "metadata": {},
   "source": [
    "Split Test/ Train Data"
   ]
  },
  {
   "cell_type": "code",
   "execution_count": 17,
   "id": "9f56c73e",
   "metadata": {},
   "outputs": [],
   "source": [
    "x1=df.drop(columns=['Class'])\n",
    "y1= df['Class']\n",
    "train_x, test_x, train_y, test_y = cv.train_test_split(x1,y1,train_size=0.8, test_size=0.2,random_state = 42)"
   ]
  },
  {
   "cell_type": "code",
   "execution_count": 18,
   "id": "9e96de4b",
   "metadata": {},
   "outputs": [
    {
     "name": "stdout",
     "output_type": "stream",
     "text": [
      "Baseline Accuracy:99.96%\n"
     ]
    }
   ],
   "source": [
    "clf=RandomForestClassifier(n_estimators=100)\n",
    "clf.fit(train_x,train_y)\n",
    "y_pred_random_forest=clf.predict(test_x)\n",
    "acc_random_forest=round(clf.score(test_x,test_y)*100, 2)\n",
    "print('Baseline Accuracy:{}%'.format(acc_random_forest))"
   ]
  },
  {
   "cell_type": "code",
   "execution_count": 19,
   "id": "a409d307",
   "metadata": {},
   "outputs": [
    {
     "name": "stdout",
     "output_type": "stream",
     "text": [
      "[[56861     3]\n",
      " [   22    76]]\n"
     ]
    }
   ],
   "source": [
    "from sklearn.metrics import confusion_matrix\n",
    "\n",
    "cm = confusion_matrix(test_y, y_pred_random_forest)\n",
    "print(cm)\n",
    "\n",
    "#True Negative    False Positive\n",
    "#False Negative   True Positive"
   ]
  },
  {
   "cell_type": "code",
   "execution_count": 20,
   "id": "79af8a8c",
   "metadata": {},
   "outputs": [
    {
     "name": "stdout",
     "output_type": "stream",
     "text": [
      "Baseline Recall score: 77.55%\n",
      "Baseline Precision score: 96.2%\n",
      "SMOTE F score: 0.86\n"
     ]
    },
    {
     "data": {
      "text/plain": [
       "0.86"
      ]
     },
     "execution_count": 20,
     "metadata": {},
     "output_type": "execute_result"
    }
   ],
   "source": [
    "from sklearn.metrics import recall_score, precision_score, f1_score\n",
    "\n",
    "Recall_socre = recall_score(test_y, y_pred_random_forest)                      #Recall=TP/(TP+FN)\n",
    "print(\"Baseline Recall score: {}%\".format(round(Recall_socre*100, 2)))\n",
    "\n",
    "Precision_score = precision_score(test_y, y_pred_random_forest)                #Precision=TP/(TP+FP)\n",
    "print(\"Baseline Precision score: {}%\".format(round(Precision_score*100, 2)))\n",
    "\n",
    "F1_score = f1_score(test_y, y_pred_random_forest)                              #F1=(2*Precision*Recall)/(Precision+Recall)\n",
    "print(\"SMOTE F score: {}\".format(round(F1_score, 2)))\n",
    "\n",
    "round(F1_score, 2)"
   ]
  },
  {
   "cell_type": "code",
   "execution_count": 21,
   "id": "c4a79f72",
   "metadata": {},
   "outputs": [
    {
     "name": "stdout",
     "output_type": "stream",
     "text": [
      "Baseline CV Recall scores: [0.79487179 0.69620253 0.72151899 0.78481013 0.82278481]\n",
      "Baseline Average CV Recall score: 0.7640376501135995\n"
     ]
    }
   ],
   "source": [
    "from sklearn.model_selection import cross_val_score\n",
    "from sklearn.model_selection import StratifiedKFold\n",
    "\n",
    "kf = StratifiedKFold(n_splits=5, shuffle=False)\n",
    "score = cross_val_score(clf, train_x, train_y, cv=kf, scoring='recall')\n",
    "\n",
    "print(\"Baseline CV Recall scores: {}\".format(score))\n",
    "print(\"Baseline Average CV Recall score: {}\".format(score.mean()))"
   ]
  },
  {
   "cell_type": "markdown",
   "id": "db026660",
   "metadata": {},
   "source": [
    "# Oversampling - SMOTE"
   ]
  },
  {
   "cell_type": "code",
   "execution_count": 22,
   "id": "ed419928",
   "metadata": {},
   "outputs": [],
   "source": [
    "#!pip install imblearn"
   ]
  },
  {
   "cell_type": "code",
   "execution_count": 23,
   "id": "4ebba8c0",
   "metadata": {},
   "outputs": [],
   "source": [
    "from imblearn.over_sampling import SMOTE\n",
    "\n",
    "sm = SMOTE(random_state = 2)\n",
    "smote_train_x, smote_train_y = sm.fit_resample(train_x, train_y.ravel())"
   ]
  },
  {
   "cell_type": "code",
   "execution_count": 24,
   "id": "502fc184",
   "metadata": {},
   "outputs": [
    {
     "name": "stdout",
     "output_type": "stream",
     "text": [
      "Before oversampling, counts fruad: 394\n",
      "Before oversampling, counts non fruad: 227451 \n",
      "\n",
      "After oversampling, counts of fruad: 227451\n",
      "After oversampling, counts of non fruad: 227451\n"
     ]
    }
   ],
   "source": [
    "print(\"Before oversampling, counts fruad: {}\".format(sum(train_y == 1)))\n",
    "print(\"Before oversampling, counts non fruad: {} \\n\".format(sum(train_y == 0)))\n",
    "\n",
    "print(\"After oversampling, counts of fruad: {}\".format(sum(smote_train_y == 1)))\n",
    "print(\"After oversampling, counts of non fruad: {}\".format(sum(smote_train_y == 0)))"
   ]
  },
  {
   "cell_type": "code",
   "execution_count": 25,
   "id": "3d6549fb",
   "metadata": {},
   "outputs": [
    {
     "name": "stdout",
     "output_type": "stream",
     "text": [
      "SMOTE Accuracy:99.96%\n"
     ]
    }
   ],
   "source": [
    "clf=RandomForestClassifier(n_estimators=100)\n",
    "clf.fit(smote_train_x,smote_train_y)\n",
    "y_pred_smote=clf.predict(test_x)\n",
    "acc_random_forest=round(clf.score(test_x,test_y)*100, 2)\n",
    "print('SMOTE Accuracy:{}%'.format(acc_random_forest))"
   ]
  },
  {
   "cell_type": "code",
   "execution_count": 26,
   "id": "a1776e17",
   "metadata": {},
   "outputs": [
    {
     "name": "stdout",
     "output_type": "stream",
     "text": [
      "[[56853    11]\n",
      " [   14    84]]\n"
     ]
    }
   ],
   "source": [
    "cm = confusion_matrix(test_y, y_pred_smote)\n",
    "print(cm)"
   ]
  },
  {
   "cell_type": "code",
   "execution_count": 27,
   "id": "0c1b8d2b",
   "metadata": {},
   "outputs": [
    {
     "name": "stdout",
     "output_type": "stream",
     "text": [
      "SMOTE Recall score: 85.71%\n",
      "SMOTE Precision score: 88.42%\n",
      "SMOTE F score: 0.87\n"
     ]
    }
   ],
   "source": [
    "Recall_socre = recall_score(test_y, y_pred_smote)\n",
    "print(\"SMOTE Recall score: {}%\".format(round(Recall_socre*100, 2)))\n",
    "\n",
    "Precision_score = precision_score(test_y, y_pred_smote)\n",
    "print(\"SMOTE Precision score: {}%\".format(round(Precision_score*100, 2)))\n",
    "\n",
    "F1_score = f1_score(test_y, y_pred_smote)\n",
    "print(\"SMOTE F score: {}\".format(round(F1_score, 2)))"
   ]
  },
  {
   "cell_type": "markdown",
   "id": "f17d3391",
   "metadata": {},
   "source": [
    "# Undersampling - Tomek"
   ]
  },
  {
   "cell_type": "code",
   "execution_count": 42,
   "id": "f50dfb4b",
   "metadata": {},
   "outputs": [],
   "source": [
    "from imblearn.under_sampling import TomekLinks\n",
    "\n",
    "undersample = TomekLinks()\n",
    "tomek_train_x, tomek_train_y = undersample.fit_resample(train_x, train_y)"
   ]
  },
  {
   "cell_type": "code",
   "execution_count": 43,
   "id": "5f9f7bc8",
   "metadata": {},
   "outputs": [
    {
     "name": "stdout",
     "output_type": "stream",
     "text": [
      "Before undersampling, counts fruad: 394\n",
      "Before undersampling, counts non fruad: 227451 \n",
      "\n",
      "After undersampling, counts of fruad: 394\n",
      "After undersampling, counts of non fruad: 227387\n"
     ]
    }
   ],
   "source": [
    "print(\"Before undersampling, counts fruad: {}\".format(sum(train_y == 1)))\n",
    "print(\"Before undersampling, counts non fruad: {} \\n\".format(sum(train_y == 0)))\n",
    "\n",
    "print(\"After undersampling, counts of fruad: {}\".format(sum(tomek_train_y == 1)))\n",
    "print(\"After undersampling, counts of non fruad: {}\".format(sum(tomek_train_y == 0)))"
   ]
  },
  {
   "cell_type": "code",
   "execution_count": 44,
   "id": "86d1ec81",
   "metadata": {},
   "outputs": [
    {
     "name": "stdout",
     "output_type": "stream",
     "text": [
      "Tomek Accuracy:99.96%\n"
     ]
    }
   ],
   "source": [
    "clf=RandomForestClassifier(n_estimators=100)\n",
    "clf.fit(tomek_train_x,tomek_train_y)\n",
    "y_pred_tomek=clf.predict(test_x)\n",
    "acc_random_forest=round(clf.score(test_x,test_y)*100, 2)\n",
    "print('Tomek Accuracy:{}%'.format(acc_random_forest))"
   ]
  },
  {
   "cell_type": "code",
   "execution_count": 45,
   "id": "01b548a5",
   "metadata": {},
   "outputs": [
    {
     "name": "stdout",
     "output_type": "stream",
     "text": [
      "[[56862     2]\n",
      " [   22    76]]\n"
     ]
    }
   ],
   "source": [
    "cm = confusion_matrix(test_y, y_pred_tomek)\n",
    "print(cm)"
   ]
  },
  {
   "cell_type": "code",
   "execution_count": 46,
   "id": "87900c43",
   "metadata": {},
   "outputs": [
    {
     "name": "stdout",
     "output_type": "stream",
     "text": [
      "Tomek Recall score: 77.55%\n",
      "Tomek Precision score: 97.44%\n",
      "Tomek F score: 0.86\n"
     ]
    }
   ],
   "source": [
    "Recall_socre = recall_score(test_y, y_pred_tomek)\n",
    "print(\"Tomek Recall score: {}%\".format(round(Recall_socre*100, 2)))\n",
    "\n",
    "Precision_score = precision_score(test_y, y_pred_tomek)\n",
    "print(\"Tomek Precision score: {}%\".format(round(Precision_score*100, 2)))\n",
    "\n",
    "F1_score = f1_score(test_y, y_pred_tomek)\n",
    "print(\"Tomek F score: {}\".format(round(F1_score, 2)))"
   ]
  },
  {
   "cell_type": "markdown",
   "id": "b1095030",
   "metadata": {},
   "source": [
    "# SMOTE+Tomek"
   ]
  },
  {
   "cell_type": "code",
   "execution_count": 48,
   "id": "0699f3e8",
   "metadata": {},
   "outputs": [],
   "source": [
    "from imblearn.combine import SMOTETomek\n",
    "\n",
    "sm = SMOTETomek()\n",
    "st_train_x, st_train_y = sm.fit_resample(train_x, train_y)"
   ]
  },
  {
   "cell_type": "code",
   "execution_count": 50,
   "id": "e95ac963",
   "metadata": {},
   "outputs": [
    {
     "name": "stdout",
     "output_type": "stream",
     "text": [
      "SMOTETomek Accuracy:99.95%\n"
     ]
    }
   ],
   "source": [
    "clf=RandomForestClassifier(n_estimators=100)\n",
    "clf.fit(st_train_x,st_train_y)\n",
    "y_pred_st=clf.predict(test_x)\n",
    "acc_random_forest=round(clf.score(test_x,test_y)*100, 2)\n",
    "print('SMOTETomek Accuracy:{}%'.format(acc_random_forest))"
   ]
  },
  {
   "cell_type": "code",
   "execution_count": 51,
   "id": "9e9c80f3",
   "metadata": {},
   "outputs": [
    {
     "name": "stdout",
     "output_type": "stream",
     "text": [
      "[[56851    13]\n",
      " [   16    82]]\n"
     ]
    }
   ],
   "source": [
    "cm = confusion_matrix(test_y, y_pred_st)\n",
    "print(cm)"
   ]
  },
  {
   "cell_type": "code",
   "execution_count": 52,
   "id": "b3dc8993",
   "metadata": {},
   "outputs": [
    {
     "name": "stdout",
     "output_type": "stream",
     "text": [
      "SMOTETomek Recall score: 83.67%\n",
      "SMOTETomek Precision score: 86.32%\n",
      "SMOTETomek F score: 0.85\n"
     ]
    }
   ],
   "source": [
    "Recall_socre = recall_score(test_y, y_pred_st)\n",
    "print(\"SMOTETomek Recall score: {}%\".format(round(Recall_socre*100, 2)))\n",
    "\n",
    "Precision_score = precision_score(test_y, y_pred_st)\n",
    "print(\"SMOTETomek Precision score: {}%\".format(round(Precision_score*100, 2)))\n",
    "\n",
    "F1_score = f1_score(test_y, y_pred_st)\n",
    "print(\"SMOTETomek F score: {}\".format(round(F1_score, 2)))"
   ]
  },
  {
   "cell_type": "markdown",
   "id": "04d4fb7b",
   "metadata": {},
   "source": [
    "# Random Oversampling and Undersampling"
   ]
  },
  {
   "cell_type": "markdown",
   "id": "f3bd7d1e",
   "metadata": {},
   "source": [
    "Random Oversampling"
   ]
  },
  {
   "cell_type": "code",
   "execution_count": 67,
   "id": "13afe9da",
   "metadata": {},
   "outputs": [],
   "source": [
    "from imblearn.over_sampling import RandomOverSampler\n",
    "ros = RandomOverSampler(random_state=2)"
   ]
  },
  {
   "cell_type": "code",
   "execution_count": 68,
   "id": "6ca19746",
   "metadata": {},
   "outputs": [],
   "source": [
    "ros_train_x, ros_train_y = ros.fit_resample(train_x, train_y)"
   ]
  },
  {
   "cell_type": "code",
   "execution_count": 72,
   "id": "885742f2",
   "metadata": {},
   "outputs": [
    {
     "name": "stdout",
     "output_type": "stream",
     "text": [
      "Random Oversampling Accuracy:99.96%\n"
     ]
    }
   ],
   "source": [
    "clf=RandomForestClassifier(n_estimators=100)\n",
    "clf.fit(ros_train_x,ros_train_y)\n",
    "y_pred_ros=clf.predict(test_x)\n",
    "acc_random_forest=round(clf.score(test_x,test_y)*100, 2)\n",
    "print('Random Oversampling Accuracy:{}%'.format(acc_random_forest))"
   ]
  },
  {
   "cell_type": "code",
   "execution_count": 83,
   "id": "e4b5b1c3",
   "metadata": {},
   "outputs": [
    {
     "name": "stdout",
     "output_type": "stream",
     "text": [
      "[[56863     1]\n",
      " [   22    76]]\n"
     ]
    }
   ],
   "source": [
    "cm = confusion_matrix(test_y, y_pred_ros)\n",
    "print(cm)"
   ]
  },
  {
   "cell_type": "code",
   "execution_count": 73,
   "id": "9493a6b6",
   "metadata": {},
   "outputs": [
    {
     "name": "stdout",
     "output_type": "stream",
     "text": [
      "Random Oversampling Recall score: 77.55%\n",
      "Random Oversampling Precision score: 98.7%\n",
      "Random Oversampling F score: 0.87\n"
     ]
    }
   ],
   "source": [
    "Recall_socre = recall_score(test_y, y_pred_ros)\n",
    "print(\"Random Oversampling Recall score: {}%\".format(round(Recall_socre*100, 2)))\n",
    "\n",
    "Precision_score = precision_score(test_y, y_pred_ros)\n",
    "print(\"Random Oversampling Precision score: {}%\".format(round(Precision_score*100, 2)))\n",
    "\n",
    "F1_score = f1_score(test_y, y_pred_ros)\n",
    "print(\"Random Oversampling F score: {}\".format(round(F1_score, 2)))"
   ]
  },
  {
   "cell_type": "markdown",
   "id": "2a89611a",
   "metadata": {},
   "source": [
    "Random Undersampling"
   ]
  },
  {
   "cell_type": "code",
   "execution_count": 75,
   "id": "311fef25",
   "metadata": {},
   "outputs": [],
   "source": [
    "from imblearn.under_sampling import RandomUnderSampler\n",
    "rus = RandomUnderSampler(random_state=2)"
   ]
  },
  {
   "cell_type": "code",
   "execution_count": 78,
   "id": "ab87aacb",
   "metadata": {},
   "outputs": [],
   "source": [
    "rus_train_x, rus_train_y = rus.fit_resample(train_x, train_y)"
   ]
  },
  {
   "cell_type": "code",
   "execution_count": 81,
   "id": "eb683f03",
   "metadata": {},
   "outputs": [
    {
     "name": "stdout",
     "output_type": "stream",
     "text": [
      "Before undersampling, counts fruad: 394\n",
      "Before undersampling, counts non fruad: 227451 \n",
      "\n",
      "After undersampling, counts of fruad: 394\n",
      "After undersampling, counts of non fruad: 394\n"
     ]
    }
   ],
   "source": [
    "print(\"Before undersampling, counts fruad: {}\".format(sum(train_y == 1)))\n",
    "print(\"Before undersampling, counts non fruad: {} \\n\".format(sum(train_y == 0)))\n",
    "\n",
    "print(\"After undersampling, counts of fruad: {}\".format(sum(rus_train_y == 1)))\n",
    "print(\"After undersampling, counts of non fruad: {}\".format(sum(rus_train_y == 0)))"
   ]
  },
  {
   "cell_type": "code",
   "execution_count": 79,
   "id": "5d656957",
   "metadata": {},
   "outputs": [
    {
     "name": "stdout",
     "output_type": "stream",
     "text": [
      "Random Undersampling Accuracy:97.62%\n"
     ]
    }
   ],
   "source": [
    "clf=RandomForestClassifier(n_estimators=100)\n",
    "clf.fit(rus_train_x,rus_train_y)\n",
    "y_pred_rus=clf.predict(test_x)\n",
    "acc_random_forest=round(clf.score(test_x,test_y)*100, 2)\n",
    "print('Random Undersampling Accuracy:{}%'.format(acc_random_forest))"
   ]
  },
  {
   "cell_type": "code",
   "execution_count": 82,
   "id": "4bf32d53",
   "metadata": {},
   "outputs": [
    {
     "name": "stdout",
     "output_type": "stream",
     "text": [
      "[[55516  1348]\n",
      " [    8    90]]\n"
     ]
    }
   ],
   "source": [
    "cm = confusion_matrix(test_y, y_pred_rus)\n",
    "print(cm)"
   ]
  },
  {
   "cell_type": "code",
   "execution_count": 80,
   "id": "166e03a6",
   "metadata": {},
   "outputs": [
    {
     "name": "stdout",
     "output_type": "stream",
     "text": [
      "Random Undersampling Recall score: 91.84%\n",
      "Random Undersampling Precision score: 6.26%\n",
      "Random Undersampling F score: 0.12\n"
     ]
    }
   ],
   "source": [
    "Recall_socre = recall_score(test_y, y_pred_rus)\n",
    "print(\"Random Undersampling Recall score: {}%\".format(round(Recall_socre*100, 2)))\n",
    "\n",
    "Precision_score = precision_score(test_y, y_pred_rus)\n",
    "print(\"Random Undersampling Precision score: {}%\".format(round(Precision_score*100, 2)))\n",
    "\n",
    "F1_score = f1_score(test_y, y_pred_rus)\n",
    "print(\"Random Undersampling F score: {}\".format(round(F1_score, 2)))"
   ]
  },
  {
   "cell_type": "markdown",
   "id": "a3bcf42d",
   "metadata": {},
   "source": [
    "# Change the weight/ panelty"
   ]
  },
  {
   "cell_type": "code",
   "execution_count": 53,
   "id": "efe649ad",
   "metadata": {},
   "outputs": [],
   "source": [
    "clf = RandomForestClassifier(n_estimators=100, random_state=13, class_weight=\"balanced\")\n",
    "#class_weight=\"balanced\" means higher weight for elements that have smaller proportion "
   ]
  },
  {
   "cell_type": "code",
   "execution_count": 54,
   "id": "676362ed",
   "metadata": {},
   "outputs": [
    {
     "name": "stdout",
     "output_type": "stream",
     "text": [
      "Tomek Accuracy:99.96%\n"
     ]
    }
   ],
   "source": [
    "clf.fit(train_x,train_y)\n",
    "y_pred_weight=clf.predict(test_x)\n",
    "acc_random_forest=round(clf.score(test_x,test_y)*100, 2)\n",
    "print('Tomek Accuracy:{}%'.format(acc_random_forest))"
   ]
  },
  {
   "cell_type": "code",
   "execution_count": 55,
   "id": "ab07e733",
   "metadata": {},
   "outputs": [
    {
     "name": "stdout",
     "output_type": "stream",
     "text": [
      "[[56863     1]\n",
      " [   23    75]]\n"
     ]
    }
   ],
   "source": [
    "cm = confusion_matrix(test_y, y_pred_weight)\n",
    "print(cm)"
   ]
  },
  {
   "cell_type": "code",
   "execution_count": 56,
   "id": "1301d6a8",
   "metadata": {},
   "outputs": [
    {
     "name": "stdout",
     "output_type": "stream",
     "text": [
      "Balanced Class Weight Recall score: 76.53%\n",
      "Balanced Class Weight Precision score: 98.68%\n",
      "Balanced Class Weight F score: 0.86\n"
     ]
    }
   ],
   "source": [
    "Recall_socre = recall_score(test_y, y_pred_weight)\n",
    "print(\"Balanced Class Weight Recall score: {}%\".format(round(Recall_socre*100, 2)))\n",
    "\n",
    "Precision_score = precision_score(test_y, y_pred_weight)\n",
    "print(\"Balanced Class Weight Precision score: {}%\".format(round(Precision_score*100, 2)))\n",
    "\n",
    "F1_score = f1_score(test_y, y_pred_weight)\n",
    "print(\"Balanced Class Weight F score: {}\".format(round(F1_score, 2)))"
   ]
  },
  {
   "cell_type": "markdown",
   "id": "8e3aab8a",
   "metadata": {},
   "source": [
    "# Summary"
   ]
  },
  {
   "cell_type": "code",
   "execution_count": 85,
   "id": "ea72eeb1",
   "metadata": {},
   "outputs": [],
   "source": [
    "df_compare = {\n",
    "    'Method':['Baseline', 'SMOTE', 'Tomek', 'SMOTETomek', 'Balanced Class Weight', 'Random Oversampling', 'Random Undersampling'],\n",
    "    'Recall':[77.55,85.71,77.55,83.67,76.53,77.55, 91.84],\n",
    "    'Precision':[96.2,88.42,97.44,86.32,98.68,98.7, 6.26],\n",
    "    'F1 Score':[0.86, 0.87,0.86,0.85,0.86,0.87, 0.12],\n",
    "    'Accuracy':[99.96,99.96,99.96,99.95,99.96,99.96, 97.62]\n",
    "}"
   ]
  },
  {
   "cell_type": "code",
   "execution_count": 86,
   "id": "4b3ac739",
   "metadata": {},
   "outputs": [
    {
     "data": {
      "text/html": [
       "<div>\n",
       "<style scoped>\n",
       "    .dataframe tbody tr th:only-of-type {\n",
       "        vertical-align: middle;\n",
       "    }\n",
       "\n",
       "    .dataframe tbody tr th {\n",
       "        vertical-align: top;\n",
       "    }\n",
       "\n",
       "    .dataframe thead th {\n",
       "        text-align: right;\n",
       "    }\n",
       "</style>\n",
       "<table border=\"1\" class=\"dataframe\">\n",
       "  <thead>\n",
       "    <tr style=\"text-align: right;\">\n",
       "      <th></th>\n",
       "      <th>Method</th>\n",
       "      <th>Recall</th>\n",
       "      <th>Precision</th>\n",
       "      <th>F1 Score</th>\n",
       "      <th>Accuracy</th>\n",
       "    </tr>\n",
       "  </thead>\n",
       "  <tbody>\n",
       "    <tr>\n",
       "      <th>6</th>\n",
       "      <td>Random Undersampling</td>\n",
       "      <td>91.84</td>\n",
       "      <td>6.26</td>\n",
       "      <td>0.12</td>\n",
       "      <td>97.62</td>\n",
       "    </tr>\n",
       "    <tr>\n",
       "      <th>1</th>\n",
       "      <td>SMOTE</td>\n",
       "      <td>85.71</td>\n",
       "      <td>88.42</td>\n",
       "      <td>0.87</td>\n",
       "      <td>99.96</td>\n",
       "    </tr>\n",
       "    <tr>\n",
       "      <th>3</th>\n",
       "      <td>SMOTETomek</td>\n",
       "      <td>83.67</td>\n",
       "      <td>86.32</td>\n",
       "      <td>0.85</td>\n",
       "      <td>99.95</td>\n",
       "    </tr>\n",
       "    <tr>\n",
       "      <th>5</th>\n",
       "      <td>Random Oversampling</td>\n",
       "      <td>77.55</td>\n",
       "      <td>98.70</td>\n",
       "      <td>0.87</td>\n",
       "      <td>99.96</td>\n",
       "    </tr>\n",
       "    <tr>\n",
       "      <th>2</th>\n",
       "      <td>Tomek</td>\n",
       "      <td>77.55</td>\n",
       "      <td>97.44</td>\n",
       "      <td>0.86</td>\n",
       "      <td>99.96</td>\n",
       "    </tr>\n",
       "    <tr>\n",
       "      <th>0</th>\n",
       "      <td>Baseline</td>\n",
       "      <td>77.55</td>\n",
       "      <td>96.20</td>\n",
       "      <td>0.86</td>\n",
       "      <td>99.96</td>\n",
       "    </tr>\n",
       "    <tr>\n",
       "      <th>4</th>\n",
       "      <td>Balanced Class Weight</td>\n",
       "      <td>76.53</td>\n",
       "      <td>98.68</td>\n",
       "      <td>0.86</td>\n",
       "      <td>99.96</td>\n",
       "    </tr>\n",
       "  </tbody>\n",
       "</table>\n",
       "</div>"
      ],
      "text/plain": [
       "                  Method  Recall  Precision  F1 Score  Accuracy\n",
       "6   Random Undersampling   91.84       6.26      0.12     97.62\n",
       "1                  SMOTE   85.71      88.42      0.87     99.96\n",
       "3             SMOTETomek   83.67      86.32      0.85     99.95\n",
       "5    Random Oversampling   77.55      98.70      0.87     99.96\n",
       "2                  Tomek   77.55      97.44      0.86     99.96\n",
       "0               Baseline   77.55      96.20      0.86     99.96\n",
       "4  Balanced Class Weight   76.53      98.68      0.86     99.96"
      ]
     },
     "execution_count": 86,
     "metadata": {},
     "output_type": "execute_result"
    }
   ],
   "source": [
    "pd.DataFrame(df_compare).sort_values(by=['Recall', 'Precision'], ascending=False)"
   ]
  }
 ],
 "metadata": {
  "kernelspec": {
   "display_name": "Python 3",
   "language": "python",
   "name": "python3"
  },
  "language_info": {
   "codemirror_mode": {
    "name": "ipython",
    "version": 3
   },
   "file_extension": ".py",
   "mimetype": "text/x-python",
   "name": "python",
   "nbconvert_exporter": "python",
   "pygments_lexer": "ipython3",
   "version": "3.8.8"
  }
 },
 "nbformat": 4,
 "nbformat_minor": 5
}
